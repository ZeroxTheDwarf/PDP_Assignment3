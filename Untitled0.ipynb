{
  "nbformat": 4,
  "nbformat_minor": 0,
  "metadata": {
    "colab": {
      "name": "Untitled0.ipynb",
      "provenance": [],
      "collapsed_sections": []
    },
    "kernelspec": {
      "name": "python3",
      "display_name": "Python 3"
    }
  },
  "cells": [
    {
      "cell_type": "code",
      "metadata": {
        "id": "D_6Z4oW7R4ze",
        "colab_type": "code",
        "colab": {}
      },
      "source": [
        "!apt-get install openjdk-8-jdk-headless -qq > /dev/null\n",
        "!wget -q https://www-us.apache.org/dist/spark/spark-3.0.0-preview2/spark-3.0.0-preview2-bin-hadoop3.2.tgz\n",
        "!tar -xvf spark-3.0.0-preview2-bin-hadoop3.2.tgz\n",
        "!pip install -q findspark\n",
        "!pip install pyspark\n",
        "\n",
        "import os \n",
        "os.environ[\"JAVA_HOME\"] = \"/usr/lib/jvm/java-8-openjdk-amd64\"\n",
        "os.environ[\"SPARK_HOME\"] = \"/content/spark-3.0.0-preview2-bin-hadoop3.2\""
      ],
      "execution_count": null,
      "outputs": []
    },
    {
      "cell_type": "code",
      "metadata": {
        "id": "T2Q3pripS_FR",
        "colab_type": "code",
        "colab": {}
      },
      "source": [
        "import findspark\n",
        "\n",
        "findspark.init()"
      ],
      "execution_count": 2,
      "outputs": []
    },
    {
      "cell_type": "code",
      "metadata": {
        "id": "zzPHReTmTy9K",
        "colab_type": "code",
        "colab": {}
      },
      "source": [
        "from pyspark.sql import SparkSession\n",
        "\n",
        "spark = SparkSession.builder \\\n",
        "  .master(\"local\") \\\n",
        "  .appName(\"Titanic\") \\\n",
        "  .config(\"spark.executor.memory\", \"1gb\") \\\n",
        "  .getOrCreate()\n",
        "\n",
        "sc = spark.sparkContext"
      ],
      "execution_count": 45,
      "outputs": []
    },
    {
      "cell_type": "code",
      "metadata": {
        "id": "_S_KopBXUQMV",
        "colab_type": "code",
        "colab": {}
      },
      "source": [
        "rdd = sc.textFile('titanic.csv')\n",
        "rdd = rdd.map(lambda line: line.split(\",\"))"
      ],
      "execution_count": 46,
      "outputs": []
    },
    {
      "cell_type": "code",
      "metadata": {
        "id": "TjuWSEpLVHh8",
        "colab_type": "code",
        "colab": {
          "base_uri": "https://localhost:8080/",
          "height": 459
        },
        "outputId": "f14d76c5-4a72-430c-a690-da1d271794d4"
      },
      "source": [
        "from pyspark.sql import Row\n",
        "from pyspark.sql.types import *\n",
        "\n",
        "df = rdd.map(lambda line: Row(survived=line[0],\n",
        "                              pclass=line[1],\n",
        "                              name=line[2],\n",
        "                              sex=line[3],\n",
        "                              age=line[4],\n",
        "                              siblings_spouses_aboard=line[5],\n",
        "                              parents_children_aboard=line[6],\n",
        "                              fare=line[7])).toDF()\n",
        "\n",
        "df.show()"
      ],
      "execution_count": 87,
      "outputs": [
        {
          "output_type": "stream",
          "text": [
            "+---+-------+--------------------+-----------------------+------+------+-----------------------+--------+\n",
            "|age|   fare|                name|parents_children_aboard|pclass|   sex|siblings_spouses_aboard|survived|\n",
            "+---+-------+--------------------+-----------------------+------+------+-----------------------+--------+\n",
            "| 22|   7.25|Mr. Owen Harris B...|                      0|     3|  male|                      1|       0|\n",
            "| 38|71.2833|Mrs. John Bradley...|                      0|     1|female|                      1|       1|\n",
            "| 26|  7.925|Miss. Laina Heikk...|                      0|     3|female|                      0|       1|\n",
            "| 35|   53.1|Mrs. Jacques Heat...|                      0|     1|female|                      1|       1|\n",
            "| 35|   8.05|Mr. William Henry...|                      0|     3|  male|                      0|       0|\n",
            "| 27| 8.4583|     Mr. James Moran|                      0|     3|  male|                      0|       0|\n",
            "| 54|51.8625|Mr. Timothy J McC...|                      0|     1|  male|                      0|       0|\n",
            "|  2| 21.075|Master. Gosta Leo...|                      1|     3|  male|                      3|       0|\n",
            "| 27|11.1333|Mrs. Oscar W (Eli...|                      2|     3|female|                      0|       1|\n",
            "| 14|30.0708|Mrs. Nicholas (Ad...|                      0|     2|female|                      1|       1|\n",
            "|  4|   16.7|Miss. Marguerite ...|                      1|     3|female|                      1|       1|\n",
            "| 58|  26.55|Miss. Elizabeth B...|                      0|     1|female|                      0|       1|\n",
            "| 20|   8.05|Mr. William Henry...|                      0|     3|  male|                      0|       0|\n",
            "| 39| 31.275|Mr. Anders Johan ...|                      5|     3|  male|                      1|       0|\n",
            "| 14| 7.8542|Miss. Hulda Amand...|                      0|     3|female|                      0|       0|\n",
            "| 55|     16|Mrs. (Mary D King...|                      0|     2|female|                      0|       1|\n",
            "|  2| 29.125| Master. Eugene Rice|                      1|     3|  male|                      4|       0|\n",
            "| 23|     13|Mr. Charles Eugen...|                      0|     2|  male|                      0|       1|\n",
            "| 31|     18|Mrs. Julius (Emel...|                      0|     3|female|                      1|       0|\n",
            "| 22|  7.225|Mrs. Fatima Masse...|                      0|     3|female|                      0|       1|\n",
            "+---+-------+--------------------+-----------------------+------+------+-----------------------+--------+\n",
            "only showing top 20 rows\n",
            "\n"
          ],
          "name": "stdout"
        }
      ]
    },
    {
      "cell_type": "markdown",
      "metadata": {
        "id": "2dBkghTsvIi9",
        "colab_type": "text"
      },
      "source": [
        "**Assignment 3a**\n",
        "Calculate the conditional probability that a person survives based on their sex and passenger-class.\n",
        "\n",
        "***P(S=true | G=female, C=1)***\n",
        "\n",
        "***P(S=true | G=female, C=2)***\n",
        "\n",
        "***P(S=true | G=female, C=3)***\n",
        "\n",
        "***P(S=true | G=male, C=1)***\n",
        "\n",
        "***P(S=true | G=male, C=2)***\n",
        "\n",
        "***P(S=true | G=male, C=3)***\n"
      ]
    },
    {
      "cell_type": "code",
      "metadata": {
        "id": "H4WfIS-7qMya",
        "colab_type": "code",
        "colab": {}
      },
      "source": [
        "def calculateSurvivalProbability(df, sex, pclass):\n",
        "  filtered_data = df.rdd.filter(lambda line: line['sex'] == sex and line['pclass'] == pclass)\n",
        "\n",
        "  survivors = filtered_data.filter(lambda line: line['survived'] == '1')\n",
        "\n",
        "  amount_survivors = (spark.createDataFrame(survivors)).count()\n",
        "  total_people = filtered_data.count()\n",
        "\n",
        "  return amount_survivors, total_people"
      ],
      "execution_count": 72,
      "outputs": []
    },
    {
      "cell_type": "code",
      "metadata": {
        "id": "UmWPizMDuS-o",
        "colab_type": "code",
        "colab": {
          "base_uri": "https://localhost:8080/",
          "height": 119
        },
        "outputId": "4ea9510d-b5f0-4990-dbbb-f73b9969d8eb"
      },
      "source": [
        "data = calculateSurvivalProbability(df, 'female', '1')\n",
        "print ( \"P(S=true | G=female, C=1) = \" + str(data[0]) + \"/\" + str(data[1]) )\n",
        "\n",
        "data = calculateSurvivalProbability(df, 'female', '2')\n",
        "print ( \"P(S=true | G=female, C=1) = \" + str(data[0]) + \"/\" + str(data[1]) )\n",
        "\n",
        "data = calculateSurvivalProbability(df, 'female', '3')\n",
        "print ( \"P(S=true | G=female, C=1) = \" + str(data[0]) + \"/\" + str(data[1]) )\n",
        "\n",
        "data = calculateSurvivalProbability(df, 'male', '1')\n",
        "print ( \"P(S=true | G=female, C=1) = \" + str(data[0]) + \"/\" + str(data[1]) )\n",
        "\n",
        "data = calculateSurvivalProbability(df, 'male', '2')\n",
        "print ( \"P(S=true | G=female, C=1) = \" + str(data[0]) + \"/\" + str(data[1]) )\n",
        "\n",
        "data = calculateSurvivalProbability(df, 'male', '3')\n",
        "print ( \"P(S=true | G=female, C=1) = \" + str(data[0]) + \"/\" + str(data[1]) )"
      ],
      "execution_count": 81,
      "outputs": [
        {
          "output_type": "stream",
          "text": [
            "P(S=true | G=female, C=1) = 91/94\n",
            "P(S=true | G=female, C=1) = 70/76\n",
            "P(S=true | G=female, C=1) = 72/144\n",
            "P(S=true | G=female, C=1) = 45/122\n",
            "P(S=true | G=female, C=1) = 17/108\n",
            "P(S=true | G=female, C=1) = 47/343\n"
          ],
          "name": "stdout"
        }
      ]
    },
    {
      "cell_type": "markdown",
      "metadata": {
        "id": "AYPiIv1fv2m8",
        "colab_type": "text"
      },
      "source": [
        "**Assignment 3b**\n",
        "What is the probability that a child in third class and younger then 10 survives? Since the number of data points that satisfy the condition is small use the \"bayesian\" approach and represent your probability as a beta distribution. Calculate a belief distribution for\n",
        "\n",
        "***S = true | A < 10, C=3*** "
      ]
    },
    {
      "cell_type": "code",
      "metadata": {
        "id": "LxuCAFu2wM3j",
        "colab_type": "code",
        "colab": {
          "base_uri": "https://localhost:8080/",
          "height": 51
        },
        "outputId": "e45eef9e-f261-4ad9-95a8-2e246edd0c70"
      },
      "source": [
        "df = df.withColumn(\"age\", df[\"age\"].cast(IntegerType()))\n",
        "df = df.withColumn(\"fare\", df[\"fare\"].cast(FloatType()))\n",
        "\n",
        "filtered_data = df.rdd.filter(lambda line: line['age'] <= 10 and line['pclass'] == '3')\n",
        "\n",
        "survivors = filtered_data.filter(lambda line: line['survived'] == '1')\n",
        "\n",
        "total_survivors = (spark.createDataFrame(survivors)).count()\n",
        "total_children = filtered_data.count()\n",
        "\n",
        "print ( \"P(S=true|A<10, C=3) = \" + str(total_survivors) + \"/\" + str(total_children) )\n",
        "print ( \"Beta(⍺=\" + str(total_children) + \", β=\" + str(total_children) + \")\" )"
      ],
      "execution_count": 157,
      "outputs": [
        {
          "output_type": "stream",
          "text": [
            "P(S=true|A<10, C=3) = 22/53\n",
            "Beta(⍺=53, β=53)\n"
          ],
          "name": "stdout"
        }
      ]
    },
    {
      "cell_type": "markdown",
      "metadata": {
        "id": "vUK5MWd89BOh",
        "colab_type": "text"
      },
      "source": [
        ""
      ]
    },
    {
      "cell_type": "markdown",
      "metadata": {
        "id": "q9FoqT-GwNBF",
        "colab_type": "text"
      },
      "source": [
        "**Assignment 3c**. How much did people pay to be on the ship? Calculate the expectation of fare conditioned on passenger-class:\n",
        "\n",
        "***E[X|C=1]***\n",
        "\n",
        "***E[X|C=2]***\n",
        "\n",
        "***E[X|C=3]***"
      ]
    },
    {
      "cell_type": "code",
      "metadata": {
        "id": "hBzbl_kbwdc9",
        "colab_type": "code",
        "colab": {}
      },
      "source": [
        "def calculateFarePerClass(df, pclass):\n",
        "  filtered_data = df.rdd.filter(lambda line: line['pclass'] == pclass)\n",
        "\n",
        "  paid_df = spark.createDataFrame(filtered_data)\n",
        "  avg = paid_df.groupBy('pclass').avg().collect()[0][1]\n",
        "\n",
        "  return avg"
      ],
      "execution_count": 171,
      "outputs": []
    },
    {
      "cell_type": "code",
      "metadata": {
        "id": "i2ieJNm-4Ud3",
        "colab_type": "code",
        "colab": {
          "base_uri": "https://localhost:8080/",
          "height": 68
        },
        "outputId": "502e13c9-9b72-4772-d74b-d4d72984a56e"
      },
      "source": [
        "print( \"Average fare: \" + str(calculateFarePerClass(df, \"1\")) )\n",
        "print( \"Average fare: \" + str(calculateFarePerClass(df, \"2\")) )\n",
        "print( \"Average fare: \" + str(calculateFarePerClass(df, \"3\")) )"
      ],
      "execution_count": 172,
      "outputs": [
        {
          "output_type": "stream",
          "text": [
            "Average fare: 38.782407407407405\n",
            "Average fare: 29.847826086956523\n",
            "Average fare: 25.170431211498972\n"
          ],
          "name": "stdout"
        }
      ]
    }
  ]
}